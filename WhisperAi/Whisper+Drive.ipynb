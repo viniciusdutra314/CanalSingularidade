{
  "cells": [
    {
      "cell_type": "markdown",
      "metadata": {
        "id": "view-in-github",
        "colab_type": "text"
      },
      "source": [
        "<a href=\"https://colab.research.google.com/github/viniciusdutra314/CanalSingularidade/blob/main/WhisperAi/Whisper%2BDrive.ipynb\" target=\"_parent\"><img src=\"https://colab.research.google.com/assets/colab-badge.svg\" alt=\"Open In Colab\"/></a>"
      ]
    },
    {
      "cell_type": "markdown",
      "id": "88dd6bc3",
      "metadata": {
        "id": "88dd6bc3"
      },
      "source": [
        "#🗣️ **Whisper** - *Notebook criado por [DotCSV](https://www.youtube.com/channel/UCy5znSnfMsDwaLlROnZ7Qbg) e traduzido pelo Singularidade*"
      ]
    },
    {
      "cell_type": "markdown",
      "id": "f3c815fa",
      "metadata": {
        "id": "f3c815fa"
      },
      "source": [
        "🚨 Deixe ativado a **Aceleração por Hardware** com GPU `\"Ambiente de Execução\" > \"Alterar o tipo de ambiente de execução\"`"
      ]
    },
    {
      "cell_type": "code",
      "execution_count": null,
      "id": "d767eaae",
      "metadata": {
        "id": "d767eaae",
        "cellView": "form"
      },
      "outputs": [],
      "source": [
        "#@title ⚙️ Execute para instalar os módulos necessários.\n",
        "\"\"\"\n",
        "To write this piece of code I took inspiration/code from a lot of places.\n",
        "It was late night, so I'm not sure how much I created or just copied o.O\n",
        "Here are some of the possible references:\n",
        "https://blog.addpipe.com/recording-audio-in-the-browser-using-pure-html5-and-minimal-javascript/\n",
        "https://stackoverflow.com/a/18650249\n",
        "https://hacks.mozilla.org/2014/06/easy-audio-capture-with-the-mediarecorder-api/\n",
        "https://air.ghost.io/recording-to-an-audio-file-using-html5-and-js/\n",
        "https://stackoverflow.com/a/49019356\n",
        "\"\"\"\n",
        "from google.colab import drive\n",
        "drive.mount('/content/drive')\n",
        "videos=[]\n",
        "def download_file(j):\n",
        "  yt = YouTube(j)\n",
        "  title=yt.title\n",
        "  title = unidecode(title) #removendo caracteres especiais e convertando para mp3\n",
        "  title = title.translate(title.maketrans('','',string.punctuation))\n",
        "  title= title.lower() +\".mp3\"\n",
        "  drivepath=\"/content/drive/MyDrive/legendasyoutube/\"+title\n",
        "  audio_stream = yt.streams.filter(only_audio=True).first()\n",
        "  audio_stream.download(filename=title)\n",
        "  video_stream = yt.streams.filter(progressive=True).order_by(\"resolution\").desc().first()\n",
        "  video_stream.download(drivepath)\n",
        "  videos.append(\"'\"+title+\"'\")\n",
        "\n",
        "!pip install git+https://github.com/openai/whisper.git\n",
        "!pip install jiwer\n",
        "!pip install pytube\n",
        "!pip install unidecode\n",
        "!pip install ffmpeg\n",
        "\n",
        "from IPython.display import HTML, Audio\n",
        "from google.colab.output import eval_js\n",
        "from base64 import b64decode\n",
        "import numpy as np\n",
        "from scipy.io.wavfile import read as wav_read\n",
        "import io\n",
        "import ffmpeg\n",
        "\n",
        "AUDIO_HTML = \"\"\"\n",
        "<script>\n",
        "var my_div = document.createElement(\"DIV\");\n",
        "var my_p = document.createElement(\"P\");\n",
        "var my_btn = document.createElement(\"BUTTON\");\n",
        "var t = document.createTextNode(\"Press to start recording\");\n",
        "\n",
        "my_btn.appendChild(t);\n",
        "//my_p.appendChild(my_btn);\n",
        "my_div.appendChild(my_btn);\n",
        "document.body.appendChild(my_div);\n",
        "\n",
        "var base64data = 0;\n",
        "var reader;\n",
        "var recorder, gumStream;\n",
        "var recordButton = my_btn;\n",
        "\n",
        "var handleSuccess = function(stream) {\n",
        "  gumStream = stream;\n",
        "  var options = {\n",
        "    //bitsPerSecond: 8000, //chrome seems to ignore, always 48k\n",
        "    mimeType : 'audio/webm;codecs=opus'\n",
        "    //mimeType : 'audio/webm;codecs=pcm'\n",
        "  };\n",
        "  //recorder = new MediaRecorder(stream, options);\n",
        "  recorder = new MediaRecorder(stream);\n",
        "  recorder.ondataavailable = function(e) {\n",
        "    var url = URL.createObjectURL(e.data);\n",
        "    var preview = document.createElement('audio');\n",
        "    preview.controls = true;\n",
        "    preview.src = url;\n",
        "    document.body.appendChild(preview);\n",
        "\n",
        "    reader = new FileReader();\n",
        "    reader.readAsDataURL(e.data);\n",
        "    reader.onloadend = function() {\n",
        "      base64data = reader.result;\n",
        "      //console.log(\"Inside FileReader:\" + base64data);\n",
        "    }\n",
        "  };\n",
        "  recorder.start();\n",
        "  };\n",
        "\n",
        "recordButton.innerText = \"Recording... press to stop\";\n",
        "\n",
        "navigator.mediaDevices.getUserMedia({audio: true}).then(handleSuccess);\n",
        "\n",
        "\n",
        "function toggleRecording() {\n",
        "  if (recorder && recorder.state == \"recording\") {\n",
        "      recorder.stop();\n",
        "      gumStream.getAudioTracks()[0].stop();\n",
        "      recordButton.innerText = \"Saving the recording... pls wait!\"\n",
        "  }\n",
        "}\n",
        "\n",
        "// https://stackoverflow.com/a/951057\n",
        "function sleep(ms) {\n",
        "  return new Promise(resolve => setTimeout(resolve, ms));\n",
        "}\n",
        "\n",
        "var data = new Promise(resolve=>{\n",
        "//recordButton.addEventListener(\"click\", toggleRecording);\n",
        "recordButton.onclick = ()=>{\n",
        "toggleRecording()\n",
        "\n",
        "sleep(2000).then(() => {\n",
        "  // wait 2000ms for the data to be available...\n",
        "  // ideally this should use something like await...\n",
        "  //console.log(\"Inside data:\" + base64data)\n",
        "  resolve(base64data.toString())\n",
        "\n",
        "});\n",
        "\n",
        "}\n",
        "});\n",
        "\n",
        "</script>\n",
        "\"\"\"\n",
        "\n",
        "def get_audio():\n",
        "  display(HTML(AUDIO_HTML))\n",
        "  data = eval_js(\"data\")\n",
        "  binary = b64decode(data.split(',')[1])\n",
        "\n",
        "  process = (ffmpeg\n",
        "    .input('pipe:0')\n",
        "    .output('pipe:1', format='wav')\n",
        "    .run_async(pipe_stdin=True, pipe_stdout=True, pipe_stderr=True, quiet=True, overwrite_output=True)\n",
        "  )\n",
        "  output, err = process.communicate(input=binary)\n",
        "\n",
        "  riff_chunk_size = len(output) - 8\n",
        "  # Break up the chunk size into four bytes, held in b.\n",
        "  q = riff_chunk_size\n",
        "  b = []\n",
        "  for i in range(4):\n",
        "      q, r = divmod(q, 256)\n",
        "      b.append(r)\n",
        "\n",
        "  # Replace bytes 4:8 in proc.stdout with the actual size of the RIFF chunk.\n",
        "  riff = output[:4] + bytes(b) + output[8:]\n",
        "\n",
        "  sr, audio = wav_read(io.BytesIO(riff))\n",
        "\n",
        "  return audio, sr"
      ]
    },
    {
      "cell_type": "markdown",
      "source": [
        "## Youtube\n"
      ],
      "metadata": {
        "id": "MVHWS2qqnnbB"
      },
      "id": "MVHWS2qqnnbB"
    },
    {
      "cell_type": "code",
      "execution_count": 17,
      "id": "kqJvNeug2M6q",
      "metadata": {
        "colab": {
          "base_uri": "https://localhost:8080/"
        },
        "id": "kqJvNeug2M6q",
        "outputId": "1883a321-15a9-4941-b85f-8f73b917ebc5"
      },
      "outputs": [
        {
          "output_type": "stream",
          "name": "stdout",
          "text": [
            "Detected language: Spanish\n",
            "\n",
            "  0%|          | 0/47266 [00:00<?, ?frames/s]\n",
            "  6%|▌         | 2780/47266 [00:08<02:14, 331.72frames/s]\n",
            " 12%|█▏        | 5692/47266 [00:13<01:32, 449.78frames/s]\n",
            " 18%|█▊        | 8348/47266 [00:20<01:32, 418.49frames/s]\n",
            " 24%|██▍       | 11232/47266 [00:26<01:23, 431.82frames/s]\n",
            " 30%|██▉       | 14152/47266 [00:32<01:11, 460.41frames/s]\n",
            " 36%|███▌      | 16832/47266 [00:39<01:09, 435.35frames/s]\n",
            " 41%|████      | 19492/47266 [00:44<01:02, 444.15frames/s]\n",
            " 47%|████▋     | 22144/47266 [00:50<00:55, 454.90frames/s]\n",
            " 53%|█████▎    | 24816/47266 [00:55<00:46, 478.44frames/s]\n",
            " 58%|█████▊    | 27632/47266 [01:00<00:38, 506.64frames/s]\n",
            " 64%|██████▍   | 30460/47266 [01:05<00:32, 518.84frames/s]\n",
            " 71%|███████   | 33384/47266 [01:11<00:27, 502.95frames/s]\n",
            " 76%|███████▋  | 36092/47266 [01:17<00:22, 497.73frames/s]\n",
            " 83%|████████▎ | 39088/47266 [01:23<00:17, 474.51frames/s]\n",
            " 88%|████████▊ | 41796/47266 [01:29<00:11, 489.01frames/s]\n",
            " 94%|█████████▍| 44464/47266 [01:35<00:06, 456.40frames/s]\n",
            "100%|██████████| 47266/47266 [01:40<00:00, 492.02frames/s]\n",
            "100%|██████████| 47266/47266 [01:40<00:00, 469.92frames/s]\n"
          ]
        }
      ],
      "source": [
        "from pytube import YouTube\n",
        "from unidecode import unidecode\n",
        "import string\n",
        "import subprocess\n",
        "# URL do vídeo, dentro do colchete você pode colocar quantas urls quiser\n",
        "#só lembre de colocar entre aspas(\"url\" ou 'url') e separadas por virgula (,)\n",
        "mode=\"transcribe\" ; quality=\"large\"\n",
        "url = ['https://www.youtube.com/watch?v=RzEjqJHW-NU'] ;\n",
        "for j in url: download_file(j)\n",
        "for k in videos:\n",
        "  if mode==\"transcribe\":\n",
        "    command=f\"whisper {k} --task transcribe --model {quality} --verbose False --output_format srt --output_dir {'/content/drive/MyDrive/legendasyoutube/'+k}\\n\"\n",
        "  elif mode==\"translate\":\n",
        "    command=f\"!whisper {k} --task translate --model {quality} --verbose False --output_dir {'/content/drive/MyDrive/legendasyoutube/'+k}\\n\"\n",
        "process = subprocess.Popen(command, shell=True, stdout=subprocess.PIPE, stderr=subprocess.STDOUT, universal_newlines=True)\n",
        "\n",
        "for line in process.stdout:\n",
        "  print(line, end='')\n"
      ]
    },
    {
      "cell_type": "code",
      "source": [
        "audios=[]\n",
        "diretorio=\"/content/\"\n",
        "mode=\"transcribe\" ; quality=\"large\"\n",
        "audios=[diretorio+j +\".mp3\" for j in audios]\n",
        "\n",
        "for k in audios:\n",
        "  if mode==\"transcribe\":\n",
        "    command=f\"whisper {k} --task transcribe --model {quality} --verbose False --output_format srt --output_dir {'/content/drive/MyDrive/legendasyoutube/'+k}\\n\"\n",
        "  elif mode==\"translate\":\n",
        "    command=f\"!whisper {k} --task translate --model {quality} --verbose False --output_dir {'/content/drive/MyDrive/legendasyoutube/'+k}\\n\""
      ],
      "metadata": {
        "id": "0Tv780-6nf62"
      },
      "id": "0Tv780-6nf62",
      "execution_count": null,
      "outputs": []
    },
    {
      "cell_type": "code",
      "source": [
        "!whisper --help"
      ],
      "metadata": {
        "id": "ap2SzAOEnkMX"
      },
      "id": "ap2SzAOEnkMX",
      "execution_count": null,
      "outputs": []
    }
  ],
  "metadata": {
    "accelerator": "GPU",
    "colab": {
      "provenance": [],
      "include_colab_link": true
    },
    "gpuClass": "standard",
    "kernelspec": {
      "display_name": "Python 3 (ipykernel)",
      "language": "python",
      "name": "python3"
    },
    "language_info": {
      "codemirror_mode": {
        "name": "ipython",
        "version": 3
      },
      "file_extension": ".py",
      "mimetype": "text/x-python",
      "name": "python",
      "nbconvert_exporter": "python",
      "pygments_lexer": "ipython3",
      "version": "3.9.12"
    }
  },
  "nbformat": 4,
  "nbformat_minor": 5
}