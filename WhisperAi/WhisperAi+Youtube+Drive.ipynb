{
  "cells": [
    {
      "cell_type": "markdown",
      "metadata": {
        "colab_type": "text",
        "id": "view-in-github"
      },
      "source": [
        "<a href=\"https://colab.research.google.com/github/viniciusdutra314/Whisper-googlecolab/blob/main/WhisperAi%2BYoutube%2BDrive.ipynb\" target=\"_parent\"><img src=\"https://colab.research.google.com/assets/colab-badge.svg\" alt=\"Open In Colab\"/></a>"
      ]
    },
    {
      "cell_type": "markdown",
      "id": "88dd6bc3",
      "metadata": {
        "id": "88dd6bc3"
      },
      "source": [
        "#🗣️ **Whisper** - *Notebook criado por [DotCSV](https://www.youtube.com/channel/UCy5znSnfMsDwaLlROnZ7Qbg) e traduzido pelo Singularidade*"
      ]
    },
    {
      "cell_type": "markdown",
      "id": "f3c815fa",
      "metadata": {
        "id": "f3c815fa"
      },
      "source": [
        "🚨 Deixe ativado a **Aceleração por Hardware** com GPU `\"Ambiente de Execução\" > \"Alterar o tipo de ambiente de execução\"`"
      ]
    },
    {
      "cell_type": "code",
      "execution_count": null,
      "id": "d767eaae",
      "metadata": {
        "colab": {
          "base_uri": "https://localhost:8080/"
        },
        "id": "d767eaae",
        "outputId": "4789737f-c02f-4693-f46f-cd8614d020df"
      },
      "outputs": [],
      "source": [
        "#@title ⚙️ Execute para instalar os módulos necessários.\n",
        "\"\"\"\n",
        "To write this piece of code I took inspiration/code from a lot of places.\n",
        "It was late night, so I'm not sure how much I created or just copied o.O\n",
        "Here are some of the possible references:\n",
        "https://blog.addpipe.com/recording-audio-in-the-browser-using-pure-html5-and-minimal-javascript/\n",
        "https://stackoverflow.com/a/18650249\n",
        "https://hacks.mozilla.org/2014/06/easy-audio-capture-with-the-mediarecorder-api/\n",
        "https://air.ghost.io/recording-to-an-audio-file-using-html5-and-js/\n",
        "https://stackoverflow.com/a/49019356\n",
        "\"\"\"\n",
        "\n",
        "!pip install git+https://github.com/openai/whisper.git\n",
        "!pip install jiwer\n",
        "!pip install pytube\n",
        "!pip install unidecode\n",
        "\n",
        "\n",
        "from IPython.display import HTML, Audio\n",
        "from google.colab.output import eval_js\n",
        "from base64 import b64decode\n",
        "import numpy as np\n",
        "from scipy.io.wavfile import read as wav_read\n",
        "import io\n",
        "import ffmpeg\n",
        "\n",
        "AUDIO_HTML = \"\"\"\n",
        "<script>\n",
        "var my_div = document.createElement(\"DIV\");\n",
        "var my_p = document.createElement(\"P\");\n",
        "var my_btn = document.createElement(\"BUTTON\");\n",
        "var t = document.createTextNode(\"Press to start recording\");\n",
        "\n",
        "my_btn.appendChild(t);\n",
        "//my_p.appendChild(my_btn);\n",
        "my_div.appendChild(my_btn);\n",
        "document.body.appendChild(my_div);\n",
        "\n",
        "var base64data = 0;\n",
        "var reader;\n",
        "var recorder, gumStream;\n",
        "var recordButton = my_btn;\n",
        "\n",
        "var handleSuccess = function(stream) {\n",
        "  gumStream = stream;\n",
        "  var options = {\n",
        "    //bitsPerSecond: 8000, //chrome seems to ignore, always 48k\n",
        "    mimeType : 'audio/webm;codecs=opus'\n",
        "    //mimeType : 'audio/webm;codecs=pcm'\n",
        "  };            \n",
        "  //recorder = new MediaRecorder(stream, options);\n",
        "  recorder = new MediaRecorder(stream);\n",
        "  recorder.ondataavailable = function(e) {            \n",
        "    var url = URL.createObjectURL(e.data);\n",
        "    var preview = document.createElement('audio');\n",
        "    preview.controls = true;\n",
        "    preview.src = url;\n",
        "    document.body.appendChild(preview);\n",
        "\n",
        "    reader = new FileReader();\n",
        "    reader.readAsDataURL(e.data); \n",
        "    reader.onloadend = function() {\n",
        "      base64data = reader.result;\n",
        "      //console.log(\"Inside FileReader:\" + base64data);\n",
        "    }\n",
        "  };\n",
        "  recorder.start();\n",
        "  };\n",
        "\n",
        "recordButton.innerText = \"Recording... press to stop\";\n",
        "\n",
        "navigator.mediaDevices.getUserMedia({audio: true}).then(handleSuccess);\n",
        "\n",
        "\n",
        "function toggleRecording() {\n",
        "  if (recorder && recorder.state == \"recording\") {\n",
        "      recorder.stop();\n",
        "      gumStream.getAudioTracks()[0].stop();\n",
        "      recordButton.innerText = \"Saving the recording... pls wait!\"\n",
        "  }\n",
        "}\n",
        "\n",
        "// https://stackoverflow.com/a/951057\n",
        "function sleep(ms) {\n",
        "  return new Promise(resolve => setTimeout(resolve, ms));\n",
        "}\n",
        "\n",
        "var data = new Promise(resolve=>{\n",
        "//recordButton.addEventListener(\"click\", toggleRecording);\n",
        "recordButton.onclick = ()=>{\n",
        "toggleRecording()\n",
        "\n",
        "sleep(2000).then(() => {\n",
        "  // wait 2000ms for the data to be available...\n",
        "  // ideally this should use something like await...\n",
        "  //console.log(\"Inside data:\" + base64data)\n",
        "  resolve(base64data.toString())\n",
        "\n",
        "});\n",
        "\n",
        "}\n",
        "});\n",
        "      \n",
        "</script>\n",
        "\"\"\"\n",
        "\n",
        "def get_audio():\n",
        "  display(HTML(AUDIO_HTML))\n",
        "  data = eval_js(\"data\")\n",
        "  binary = b64decode(data.split(',')[1])\n",
        "  \n",
        "  process = (ffmpeg\n",
        "    .input('pipe:0')\n",
        "    .output('pipe:1', format='wav')\n",
        "    .run_async(pipe_stdin=True, pipe_stdout=True, pipe_stderr=True, quiet=True, overwrite_output=True)\n",
        "  )\n",
        "  output, err = process.communicate(input=binary)\n",
        "  \n",
        "  riff_chunk_size = len(output) - 8\n",
        "  # Break up the chunk size into four bytes, held in b.\n",
        "  q = riff_chunk_size\n",
        "  b = []\n",
        "  for i in range(4):\n",
        "      q, r = divmod(q, 256)\n",
        "      b.append(r)\n",
        "\n",
        "  # Replace bytes 4:8 in proc.stdout with the actual size of the RIFF chunk.\n",
        "  riff = output[:4] + bytes(b) + output[8:]\n",
        "\n",
        "  sr, audio = wav_read(io.BytesIO(riff))\n",
        "\n",
        "  return audio, sr"
      ]
    },
    {
      "cell_type": "markdown",
      "id": "ff5NdN025Snj",
      "metadata": {
        "id": "ff5NdN025Snj"
      },
      "source": [
        "## **Youtube download mp3**\n"
      ]
    },
    {
      "cell_type": "code",
      "execution_count": 1,
      "id": "MtdVzkAIVdLW",
      "metadata": {
        "colab": {
          "base_uri": "https://localhost:8080/"
        },
        "id": "MtdVzkAIVdLW",
        "outputId": "e0cfac0a-d434-43cc-a240-66089227e575"
      },
      "outputs": [
        {
          "name": "stdout",
          "output_type": "stream",
          "text": [
            "Mounted at /content/drive\n"
          ]
        }
      ],
      "source": [
        "from google.colab import drive\n",
        "drive.mount('/content/drive')"
      ]
    },
    {
      "cell_type": "code",
      "execution_count": 14,
      "id": "kqJvNeug2M6q",
      "metadata": {
        "colab": {
          "base_uri": "https://localhost:8080/"
        },
        "id": "kqJvNeug2M6q",
        "outputId": "d2578b1e-5ed0-4f25-b0bd-527c600c1d53"
      },
      "outputs": [
        {
          "name": "stdout",
          "output_type": "stream",
          "text": [
            "Deseja transcrever (coloque transcribe) ou traduzir (translate)?transcribe\n",
            "Em que qualidade? (large,medium...)base\n"
          ]
        }
      ],
      "source": [
        "from pytube import YouTube\n",
        "from unidecode import unidecode\n",
        "import string\n",
        "titulos=[] #\n",
        "# URL do vídeo, dentro do colchete você pode colocar quantas urls quiser\n",
        "#só lembre de colocar entre aspas(\"url\" ou 'url') e separadas por virgula (,)\n",
        "url = ['']\n",
        "for j in url: \n",
        "  yt = YouTube(j)\n",
        "  title=yt.title\n",
        "  title = unidecode(title) #removendo caracteres especiais e convertando para mp3\n",
        "  title = title.translate(title.maketrans('','',string.punctuation))\n",
        "  title= title.lower() +\".mp3\"\n",
        "  drivepath=\"/content/drive/MyDrive/legendasyoutube/\"+title\n",
        "  audio_stream = yt.streams.filter(only_audio=True).first()\n",
        "  audio_stream.download(filename=title)\n",
        "  video_stream = yt.streams.filter(progressive=True).order_by(\"resolution\").desc().first()\n",
        "  video_stream.download(drivepath)\n",
        "  titulos.append(\"'\"+title+\"'\")\n",
        "copiar=open(\"copiar.txt\",\"w\")\n",
        "mode=input(\"Deseja transcrever (coloque transcribe) ou traduzir (translate)?\")\n",
        "quality=input(\"Em que qualidade? (large,medium...)\")\n",
        "for k in titulos:\n",
        "  if mode==\"transcribe\": \n",
        "    copiar.write(f\"!whisper {k} --task transcribe --model {quality} --verbose False --output_dir {'/content/drive/MyDrive/legendasyoutube/'+k}\\n\")\n",
        "  elif mode==\"translate\":\n",
        "    copiar.write(f\"!whisper {k} --task translate --model {quality} --verbose False --output_dir {'/content/drive/MyDrive/legendasyoutube/'+k}\\n\")\n",
        "  elif mode not in [\"transcribe\",\"translate\"]:\n",
        "    print(\"modo não reconhecido\")\n",
        "copiar.close()"
      ]
    },
    {
      "cell_type": "markdown",
      "id": "10db4efa",
      "metadata": {
        "id": "10db4efa"
      },
      "source": [
        "## 👉 Transcrever no Idioma Original $x$ ($x$ $\\to$ $x$)"
      ]
    },
    {
      "cell_type": "code",
      "execution_count": null,
      "id": "18e2b0b8",
      "metadata": {
        "id": "18e2b0b8"
      },
      "outputs": [],
      "source": [
        "!whisper \"audio.mp3\" --task transcribe --model medium --verbose False --output_dir legenda"
      ]
    },
    {
      "cell_type": "markdown",
      "id": "8eefd8a8",
      "metadata": {
        "id": "8eefd8a8"
      },
      "source": [
        "## 👉  Traduzir o áudio em um idioma $x$ para o inglês ($x$ $\\to$ English)"
      ]
    },
    {
      "cell_type": "code",
      "execution_count": null,
      "id": "4ac554aa",
      "metadata": {
        "id": "4ac554aa"
      },
      "outputs": [],
      "source": [
        "!whisper \"audio.mp3\" --task translate --model base --verbose False --output_dir traducao"
      ]
    },
    {
      "cell_type": "markdown",
      "id": "e2931ab8",
      "metadata": {
        "id": "e2931ab8"
      },
      "source": [
        "## 👉 Transcrever ou traduzir multiplos áudios\n"
      ]
    },
    {
      "cell_type": "code",
      "execution_count": null,
      "id": "09dfd347",
      "metadata": {
        "id": "09dfd347"
      },
      "outputs": [],
      "source": [
        "import os\n",
        "audios=[]\n",
        "mode=input(\"Deseja transcrever (transcribe) ou traduzir (translate)? \")\n",
        "quality=input(\"Qual modo de qualidade você deseja? (tiny,base,small,medium,large) \")\n",
        "for j in os.listdir():\n",
        "  if j[-4:]==\".mp3\": audios.append(j)\n",
        "copiar=open(\"copiar.txt\",\"w\")\n",
        "for k in audios:\n",
        "  if mode==\"transcribe\": \n",
        "    copiar.write(f\"!whisper \"{k}\" --task transcribe --model {quality} --verbose False --output_dir legendas\\n\")\n",
        "  elif mode==\"translate\":\n",
        "    copiar.write(f\"!whisper \"{k}\" --task translate --model {quality} --verbose False --output_dir traducoes\\n\")\n",
        "  elif mode not in [\"transcribe\",\"translate\"]:\n",
        "    print(\"modo não reconhecido\")\n",
        "copiar.close()"
      ]
    },
    {
      "cell_type": "markdown",
      "id": "d284f4a9",
      "metadata": {
        "id": "d284f4a9"
      },
      "source": [
        "## Rodar o código gerado na etapa anterior ou no youtube"
      ]
    },
    {
      "cell_type": "code",
      "execution_count": null,
      "id": "187a5298",
      "metadata": {
        "colab": {
          "base_uri": "https://localhost:8080/"
        },
        "id": "187a5298",
        "outputId": "ceea5ae6-6014-4ed0-b524-6e194d174d9e"
      },
      "outputs": [],
      "source": []
    }
  ],
  "metadata": {
    "accelerator": "GPU",
    "colab": {
      "include_colab_link": true,
      "provenance": []
    },
    "gpuClass": "standard",
    "kernelspec": {
      "display_name": "Python 3 (ipykernel)",
      "language": "python",
      "name": "python3"
    },
    "language_info": {
      "codemirror_mode": {
        "name": "ipython",
        "version": 3
      },
      "file_extension": ".py",
      "mimetype": "text/x-python",
      "name": "python",
      "nbconvert_exporter": "python",
      "pygments_lexer": "ipython3",
      "version": "3.9.12"
    }
  },
  "nbformat": 4,
  "nbformat_minor": 5
}
