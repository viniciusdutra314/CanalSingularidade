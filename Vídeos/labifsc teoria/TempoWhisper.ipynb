{
  "nbformat": 4,
  "nbformat_minor": 0,
  "metadata": {
    "colab": {
      "provenance": [],
      "authorship_tag": "ABX9TyO1RK2RKarcwxZzlRvzb4ic",
      "include_colab_link": true
    },
    "kernelspec": {
      "name": "python3",
      "display_name": "Python 3"
    },
    "language_info": {
      "name": "python"
    }
  },
  "cells": [
    {
      "cell_type": "markdown",
      "metadata": {
        "id": "view-in-github",
        "colab_type": "text"
      },
      "source": [
        "<a href=\"https://colab.research.google.com/github/viniciusdutra314/Manim-Singularidade/blob/main/TempoWhisper.ipynb\" target=\"_parent\"><img src=\"https://colab.research.google.com/assets/colab-badge.svg\" alt=\"Open In Colab\"/></a>"
      ]
    },
    {
      "cell_type": "code",
      "execution_count": null,
      "metadata": {
        "id": "BMHNzi6S76LB"
      },
      "outputs": [],
      "source": [
        "!sudo apt update\n",
        "!sudo apt install libcairo2-dev ffmpeg texlive texlive-latex-extra texlive-fonts-extra texlive-latex-recommended texlive-science tipa libpango1.0-dev\n",
        "!pip install manim\n",
        "!pip install IPython --upgrade"
      ]
    },
    {
      "cell_type": "code",
      "source": [
        "from manim import *\n",
        "\n",
        "config.media_width = \"75%\"\n",
        "config.verbosity = \"WARNING\""
      ],
      "metadata": {
        "id": "KyJ1fUpF79DG"
      },
      "execution_count": null,
      "outputs": []
    },
    {
      "cell_type": "code",
      "source": [
        "%%manim -qk WhisperAi\n",
        "x=np.array([13.083333333333334, 19.033333333333335, 7.0, 17.083333333333332, 9.116666666666667, 5.15, 16.116666666666667, 17.15, 12.133333333333333, 13.1, 9.15, 5.05, 14.15, 18.15, 13.066666666666666, 9.083333333333334, 18.066666666666666, 10.0, 8.15, 6.133333333333334, 10.116666666666667, 16.1, 7.133333333333334, 14.066666666666666])\n",
        "y=np.array([7.016666666666667, 10.0, 3.1333333333333333, 9.083333333333334, 5.133333333333334, 3.15, 9.116666666666667, 9.116666666666667, 7.15, 7.066666666666666, 5.116666666666666, 3.0166666666666666, 7.0, 9.066666666666666, 6.15, 5.1, 9.033333333333333, 5.133333333333334, 4.116666666666666, 3.1166666666666667, 5.15, 6.0, 4.083333333333333, 7.05])\n",
        "\n",
        "\n",
        "class WhisperAi(Scene):\n",
        "    def construct(self):\n",
        "        axes = Axes(\n",
        "            x_range=[0, 20, 1],\n",
        "            y_range=[0, 11, 1],\n",
        "            axis_config={\"color\": BLUE},\n",
        "             x_axis_config={\n",
        "                \"numbers_to_include\": np.arange(0, 20, 2), \n",
        "                \"numbers_with_elongated_ticks\": np.arange(0, 20, 2)\n",
        "             },\n",
        "             y_axis_config={\n",
        "                \"numbers_to_include\": np.arange(0, 11, 2), \n",
        "                \"numbers_with_elongated_ticks\": np.arange(0, 11, 2)\n",
        "             })\n",
        "        self.play(FadeIn(axes,runtime=6))\n",
        "        labels = axes.get_axis_labels(x_label='Tempo \\, \\, Video \\, \\, (min)', y_label='Tempo \\, \\, Ai \\, \\, (min)').set_color(RED)\n",
        "        self.play(Create(labels))\n",
        "        line_graph = axes.plot(lambda x: 0.482*x+0.44, color=RED)\n",
        "        for j in range(len(x)):\n",
        "            self.add(Dot(point=UP).move_to(axes.coords_to_point(x[j],y[j])))\n",
        "            self.wait(0.2)\n",
        "        self.play(Create(line_graph))\n",
        "        self.wait(2)"
      ],
      "metadata": {
        "id": "nXGEIXLI7-sx"
      },
      "execution_count": null,
      "outputs": []
    }
  ]
}