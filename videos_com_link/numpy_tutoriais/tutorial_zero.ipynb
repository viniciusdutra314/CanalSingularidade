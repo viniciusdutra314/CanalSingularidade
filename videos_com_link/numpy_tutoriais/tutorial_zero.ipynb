{
 "cells": [
  {
   "cell_type": "markdown",
   "metadata": {},
   "source": [
    "## Um pouco sobre a história do Numpy\n",
    "<img src=\"images/numpy_logo.png\" width=150> Criado em 2005, o [Numpy](https://numpy.org/) veio como uma unificação das bibliotecas de manipulação de arrays Numarray e Numeric (agora já descontinuadas), é um projeto open-source hospedado no [Github](https://github.com/numpy/numpy) sob a licença BSD. Atualmente (fev/2024) ele se encontra na versão 1.26 com quase 20 anos de história.\n",
    "\n",
    "\n",
    "<img src=\"images/numpy_langs.png\" width=200>\n",
    "Grande parte do projeto é escrito em C/C++ fornecendo uma grande performance quando comparada a bibliotecas numéricas escritas em Python puro \n",
    "\n",
    "### A base matemática de projetos científicos Python\n",
    "O Numpy é usado como dependência em quase todas as bibliotecas científicas do ecossistema Python, é difícil enfatizar o suficiente a sua importância, grandes esforços científicos como as [imagens do buraco negro M87](https://numpy.org/case-studies/blackhole-image/) e a [descobertas das ondas gravitacionais](https://numpy.org/case-studies/gw-discov/) tiveram a ajuda do Numpy\n",
    "\n",
    "<img src=\"images/numpy_tree.png\" width=600>\n",
    "\n",
    "Para garantir a integridade desses projetos derivados, o repositório do Numpy tem muitos testes (cerca de 50.000)\n",
    "que podem ser executados por qualquer pessoa com um conhecimento um pouco mais avançado de python, eu executei no meu próprio notebook, nem um teste falhou e demorou 8 minutos\n",
    "\n",
    "<img src=\"images/numpy_testes.jpg\" width=600>\n",
    "\n",
    "\n",
    "\n",
    "Caso você já tenha usado alguma biblioteca científica no Python é altamente provável\n",
    "que você tenha instalado sem saber o numpy, eis um exemplo (poetry add matplotlib / pip install matplotlib)\n",
    "\n",
    "<img src=\"images/instalacao_matplotlib.png\" width=450>"
   ]
  },
  {
   "cell_type": "markdown",
   "metadata": {},
   "source": [
    "## Numpy vs bibliotecas nativas\n",
    "\n",
    "Sim, pacotes nativos do Python como [math](https://python.readthedocs.io/en/stable/library/math.html), [cmath](https://python.readthedocs.io/en/stable/library/cmath.html), [random](https://python.readthedocs.io/en/stable/library/random.html) já fazem muitas coisas que o Numpy faz, então por que usar o Numpy? A resposta é simples, **performance** e sintaxe simplificada\n",
    "\n"
   ]
  },
  {
   "cell_type": "markdown",
   "metadata": {},
   "source": [
    "### Random"
   ]
  },
  {
   "cell_type": "code",
   "execution_count": 16,
   "metadata": {},
   "outputs": [
    {
     "name": "stdout",
     "output_type": "stream",
     "text": [
      "Tempo de execução Numpy\n",
      "6.09 ms ± 62.2 µs per loop (mean ± std. dev. of 7 runs, 100 loops each)\n",
      "Tempo de execução Python\n",
      "198 ms ± 3.33 ms per loop (mean ± std. dev. of 7 runs, 10 loops each)\n"
     ]
    }
   ],
   "source": [
    "import numpy as np\n",
    "import random \n",
    "N=1_000_000\n",
    "print('Tempo de execução Numpy')\n",
    "%timeit num_aleatorios_numpy=np.random.uniform(size=N)\n",
    "print('Tempo de execução Python')\n",
    "%timeit num_aleatorios_python=[random.uniform(0,1) for _ in range(N)]"
   ]
  },
  {
   "cell_type": "markdown",
   "metadata": {},
   "source": [
    "### Math"
   ]
  },
  {
   "cell_type": "code",
   "execution_count": 17,
   "metadata": {},
   "outputs": [
    {
     "name": "stdout",
     "output_type": "stream",
     "text": [
      "Tempo de execução Numpy:\n",
      "8.28 ms ± 188 µs per loop (mean ± std. dev. of 7 runs, 100 loops each)\n",
      "Tempo de execução Python:\n",
      "117 ms ± 6.23 ms per loop (mean ± std. dev. of 7 runs, 10 loops each)\n"
     ]
    }
   ],
   "source": [
    "import math\n",
    "num_aleatorios=np.random.uniform(size=N)\n",
    "print('Tempo de execução Numpy:')\n",
    "%timeit senos_aleatorios_numpy=np.sin(num_aleatorios)\n",
    "print('Tempo de execução Python:')\n",
    "%timeit senos_aleatorios_python=[math.sin(x) for x in num_aleatorios]"
   ]
  },
  {
   "cell_type": "markdown",
   "metadata": {},
   "source": [
    "## Instalação\n",
    "O Numpy se encontra no [PyPI](https://pypi.org/project/numpy/), toda a loucura de rodar código C/C++, Fortran, Cython e Python ao mesmo tempo\n",
    "é resolvida com versões já compiladas prontas para a instalação em segundos, caso queira, é possível compilar na sua própria maquina com 'pip install numpy --no-binary=:all:', no meu notebook demorou *10 minutos* vs *2 segundos* da versão já compilada.\n",
    "\n",
    "Caso esteja no Google Colab isso não será necessário porque o Numpy já vem instalado por padrão"
   ]
  },
  {
   "cell_type": "code",
   "execution_count": null,
   "metadata": {
    "vscode": {
     "languageId": "shellscript"
    }
   },
   "outputs": [],
   "source": [
    "pip install numpy "
   ]
  },
  {
   "cell_type": "markdown",
   "metadata": {},
   "source": [
    "# Sumário dos próximos vídeos\n",
    "\n",
    "\n",
    "### 1 - Básico\n",
    "- [Arrays N dimensionais](https://numpy.org/doc/stable/reference/arrays.html) (ndarray)\n",
    "Alguns exemplos são vetores, matrizes, tensores\n",
    "\n",
    "-  [Operações vetorizadas](https://numpy.org/doc/stable/reference/generated/numpy.vectorize.html)(Aumento de performance em operações e funções)\n",
    "\n",
    "- [Funções matemáticas](https://numpy.org/doc/stable/reference/routines.math.html) (sin,cos,exp,gcd)\n",
    "\n",
    "\n",
    "- [Constantes](https://numpy.org/doc/stable/reference/constants.html) ($\\pi$,$e$,$\\gamma$,$\\infty$)\n",
    "\n",
    "### 2 - Intermediário\n",
    "\n",
    "- [Algebra Linear](https://numpy.org/doc/stable/reference/routines.linalg.html) (autovalor/autovetor, determinante,sistemas lineares)\n",
    "\n",
    "- [Polinômios](https://numpy.org/doc/stable/reference/routines.polynomials.html)(Regressão polinomial, raízes, Legendre, Hermite)\n",
    "\n",
    "- [Números Aleatórios](https://numpy.org/doc/stable/reference/random/index.html)(Distribuição uniforme, gaussiana, várias PDFs, multithreading)\n",
    "\n",
    "### 3 - Avançado\n",
    "\n",
    "- [Transformada rápida de Fourier](https://numpy.org/doc/stable/reference/routines.fft.html)\n",
    "\n",
    "- [Tipos de C em Python](https://numpy.org/doc/stable/user/basics.types.html)\n",
    "\n",
    "- [Interface Fortran/Python](https://numpy.org/doc/stable/f2py/index.html)\n",
    "\n",
    "\n"
   ]
  }
 ],
 "metadata": {
  "kernelspec": {
   "display_name": ".venv",
   "language": "python",
   "name": "python3"
  },
  "language_info": {
   "codemirror_mode": {
    "name": "ipython",
    "version": 3
   },
   "file_extension": ".py",
   "mimetype": "text/x-python",
   "name": "python",
   "nbconvert_exporter": "python",
   "pygments_lexer": "ipython3",
   "version": "3.10.12"
  }
 },
 "nbformat": 4,
 "nbformat_minor": 2
}
