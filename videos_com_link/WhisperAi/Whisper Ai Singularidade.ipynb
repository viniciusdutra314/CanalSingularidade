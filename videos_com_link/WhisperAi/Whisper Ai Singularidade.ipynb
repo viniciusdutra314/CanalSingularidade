{
  "cells": [
    {
      "cell_type": "markdown",
      "id": "88dd6bc3",
      "metadata": {
        "id": "88dd6bc3"
      },
      "source": [
        "#🗣️ **Whisper** - *Notebook criado por [DotCSV](https://www.youtube.com/channel/UCy5znSnfMsDwaLlROnZ7Qbg) e traduzido pelo [Singularidade](https://www.youtube.com/singularidade)*"
      ]
    },
    {
      "cell_type": "markdown",
      "id": "f3c815fa",
      "metadata": {
        "id": "f3c815fa"
      },
      "source": [
        "🚨 Deixe ativado a **Aceleração por Hardware** com GPU `\"Ambiente de Execução\" > \"Alterar o tipo de ambiente de execução\"`"
      ]
    },
    {
      "cell_type": "code",
      "execution_count": null,
      "id": "d767eaae",
      "metadata": {
        "cellView": "form",
        "id": "d767eaae"
      },
      "outputs": [],
      "source": [
        "#@title ⚙️ Execute para instalar os módulos necessários.\n",
        "\"\"\"\n",
        "To write this piece of code I took inspiration/code from a lot of places.\n",
        "It was late night, so I'm not sure how much I created or just copied o.O\n",
        "Here are some of the possible references:\n",
        "https://blog.addpipe.com/recording-audio-in-the-browser-using-pure-html5-and-minimal-javascript/\n",
        "https://stackoverflow.com/a/18650249\n",
        "https://hacks.mozilla.org/2014/06/easy-audio-capture-with-the-mediarecorder-api/\n",
        "https://air.ghost.io/recording-to-an-audio-file-using-html5-and-js/\n",
        "https://stackoverflow.com/a/49019356\n",
        "\"\"\"\n",
        "\n",
        "!pip install git+https://github.com/openai/whisper.git\n",
        "!pip install jiwer\n",
        "!pip install pytube\n",
        "!pip install unidecode\n",
        "!pip install ffmpeg\n",
        "def check_extension(file):\n",
        "  global extensions\n",
        "  for extension in extensions:\n",
        "    if extension in file:\n",
        "      return True\n",
        "  else:\n",
        "    return False\n",
        "def create_subtitles():\n",
        "  from subprocess import Popen, PIPE, STDOUT\n",
        "  audios=[j for j in os.listdir() if check_extension(j)]\n",
        "  for k in audios:\n",
        "    command=f\"whisper '/content/{k}' --model {quality} --verbose False --output_dir legendas  --output_format srt\"\n",
        "    process = Popen(command, shell=True, stdout=PIPE, stderr=STDOUT, universal_newlines=True)\n",
        "    for line in process.stdout:print(line, end='')\n",
        "import os\n",
        "from IPython.display import HTML, Audio\n",
        "from google.colab.output import eval_js\n",
        "from base64 import b64decode\n",
        "import numpy as np\n",
        "from scipy.io.wavfile import read as wav_read\n",
        "import io\n",
        "import ffmpeg\n",
        "\n",
        "AUDIO_HTML = \"\"\"\n",
        "<script>\n",
        "var my_div = document.createElement(\"DIV\");\n",
        "var my_p = document.createElement(\"P\");\n",
        "var my_btn = document.createElement(\"BUTTON\");\n",
        "var t = document.createTextNode(\"Press to start recording\");\n",
        "\n",
        "my_btn.appendChild(t);\n",
        "//my_p.appendChild(my_btn);\n",
        "my_div.appendChild(my_btn);\n",
        "document.body.appendChild(my_div);\n",
        "\n",
        "var base64data = 0;\n",
        "var reader;\n",
        "var recorder, gumStream;\n",
        "var recordButton = my_btn;\n",
        "\n",
        "var handleSuccess = function(stream) {\n",
        "  gumStream = stream;\n",
        "  var options = {\n",
        "    //bitsPerSecond: 8000, //chrome seems to ignore, always 48k\n",
        "    mimeType : 'audio/webm;codecs=opus'\n",
        "    //mimeType : 'audio/webm;codecs=pcm'\n",
        "  };\n",
        "  //recorder = new MediaRecorder(stream, options);\n",
        "  recorder = new MediaRecorder(stream);\n",
        "  recorder.ondataavailable = function(e) {\n",
        "    var url = URL.createObjectURL(e.data);\n",
        "    var preview = document.createElement('audio');\n",
        "    preview.controls = true;\n",
        "    preview.src = url;\n",
        "    document.body.appendChild(preview);\n",
        "\n",
        "    reader = new FileReader();\n",
        "    reader.readAsDataURL(e.data);\n",
        "    reader.onloadend = function() {\n",
        "      base64data = reader.result;\n",
        "      //console.log(\"Inside FileReader:\" + base64data);\n",
        "    }\n",
        "  };\n",
        "  recorder.start();\n",
        "  };\n",
        "\n",
        "recordButton.innerText = \"Recording... press to stop\";\n",
        "\n",
        "navigator.mediaDevices.getUserMedia({audio: true}).then(handleSuccess);\n",
        "\n",
        "\n",
        "function toggleRecording() {\n",
        "  if (recorder && recorder.state == \"recording\") {\n",
        "      recorder.stop();\n",
        "      gumStream.getAudioTracks()[0].stop();\n",
        "      recordButton.innerText = \"Saving the recording... pls wait!\"\n",
        "  }\n",
        "}\n",
        "\n",
        "// https://stackoverflow.com/a/951057\n",
        "function sleep(ms) {\n",
        "  return new Promise(resolve => setTimeout(resolve, ms));\n",
        "}\n",
        "\n",
        "var data = new Promise(resolve=>{\n",
        "//recordButton.addEventListener(\"click\", toggleRecording);\n",
        "recordButton.onclick = ()=>{\n",
        "toggleRecording()\n",
        "\n",
        "sleep(2000).then(() => {\n",
        "  // wait 2000ms for the data to be available...\n",
        "  // ideally this should use something like await...\n",
        "  //console.log(\"Inside data:\" + base64data)\n",
        "  resolve(base64data.toString())\n",
        "\n",
        "});\n",
        "\n",
        "}\n",
        "});\n",
        "\n",
        "</script>\n",
        "\"\"\"\n",
        "\n",
        "def get_audio():\n",
        "  display(HTML(AUDIO_HTML))\n",
        "  data = eval_js(\"data\")\n",
        "  binary = b64decode(data.split(',')[1])\n",
        "\n",
        "  process = (ffmpeg\n",
        "    .input('pipe:0')\n",
        "    .output('pipe:1', format='wav')\n",
        "    .run_async(pipe_stdin=True, pipe_stdout=True, pipe_stderr=True, quiet=True, overwrite_output=True)\n",
        "  )\n",
        "  output, err = process.communicate(input=binary)\n",
        "\n",
        "  riff_chunk_size = len(output) - 8\n",
        "  # Break up the chunk size into four bytes, held in b.\n",
        "  q = riff_chunk_size\n",
        "  b = []\n",
        "  for i in range(4):\n",
        "      q, r = divmod(q, 256)\n",
        "      b.append(r)\n",
        "\n",
        "  # Replace bytes 4:8 in proc.stdout with the actual size of the RIFF chunk.\n",
        "  riff = output[:4] + bytes(b) + output[8:]\n",
        "\n",
        "  sr, audio = wav_read(io.BytesIO(riff))\n",
        "\n",
        "  return audio, sr"
      ]
    },
    {
      "cell_type": "markdown",
      "id": "10db4efa",
      "metadata": {
        "id": "10db4efa"
      },
      "source": [
        "## 👉 Criar uma legenda\n",
        "Por padrão as legendas sairam no formato .srt, caso queira ativar outro formato é só acrescentar o formato ao final do comando abaixo \"output_format srt formatoadicional\""
      ]
    },
    {
      "cell_type": "code",
      "execution_count": null,
      "id": "18e2b0b8",
      "metadata": {
        "id": "18e2b0b8"
      },
      "outputs": [],
      "source": [
        "!whisper \"audio.mp3\" --task transcribe --model medium --verbose False --output_dir legendas  --output_format srt"
      ]
    },
    {
      "cell_type": "markdown",
      "id": "e2931ab8",
      "metadata": {
        "id": "e2931ab8"
      },
      "source": [
        "## 👉 Criar várias legendas (o processo foi simplificado)\n",
        "Não é necessário copiar nenhum texto, todos os audios no diretorio serão legendados automaticamente, se a extensão do seu audio não estiver na lista é só adiciona-la\n"
      ]
    },
    {
      "cell_type": "code",
      "execution_count": null,
      "id": "09dfd347",
      "metadata": {
        "id": "09dfd347"
      },
      "outputs": [],
      "source": [
        "extensions=[\".mp3\",\".ogg\",\".wav\"]\n",
        "quality=input(\"Qual modo de qualidade você deseja? (tiny,base,small,medium,large) \").lower()\n",
        "create_subtitles()\n"
      ]
    }
  ],
  "metadata": {
    "accelerator": "GPU",
    "colab": {
      "provenance": [],
      "gpuType": "T4"
    },
    "kernelspec": {
      "display_name": "Python 3",
      "name": "python3"
    },
    "language_info": {
      "codemirror_mode": {
        "name": "ipython",
        "version": 3
      },
      "file_extension": ".py",
      "mimetype": "text/x-python",
      "name": "python",
      "nbconvert_exporter": "python",
      "pygments_lexer": "ipython3",
      "version": "3.10.6 (tags/v3.10.6:9c7b4bd, Aug  1 2022, 21:53:49) [MSC v.1932 64 bit (AMD64)]"
    },
    "vscode": {
      "interpreter": {
        "hash": "4b3544f3f607a448bb912fcc71615df9318cdf5494c0fb1b22c510f6f2143ab8"
      }
    }
  },
  "nbformat": 4,
  "nbformat_minor": 5
}