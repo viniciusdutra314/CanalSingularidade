{
  "cells": [
    {
      "attachments": {},
      "cell_type": "markdown",
      "metadata": {
        "colab_type": "text",
        "id": "view-in-github"
      },
      "source": [
        "<a href=\"https://colab.research.google.com/github/viniciusdutra314/Manim-Singularidade/blob/main/TextoTemplate.ipynb\" target=\"_parent\"><img src=\"https://colab.research.google.com/assets/colab-badge.svg\" alt=\"Open In Colab\"/></a>"
      ]
    },
    {
      "cell_type": "code",
      "execution_count": null,
      "metadata": {
        "id": "aovufi214C43"
      },
      "outputs": [],
      "source": [
        "!sudo apt update\n",
        "!sudo apt install libcairo2-dev ffmpeg texlive texlive-latex-extra texlive-fonts-extra texlive-latex-recommended texlive-science tipa libpango1.0-dev\n",
        "!pip install manim\n",
        "!pip install IPython --upgrade"
      ]
    },
    {
      "attachments": {},
      "cell_type": "markdown",
      "metadata": {
        "id": "vyQu_o0jQWxI"
      },
      "source": [
        "## Antes de executar esse bloco, reinicie o ambiente de execução (Ambiente de Execução / Reiniciar Ambiente de Execução)"
      ]
    },
    {
      "cell_type": "code",
      "execution_count": 1,
      "metadata": {
        "colab": {
          "base_uri": "https://localhost:8080/",
          "height": 50
        },
        "id": "dZwgNMqD4Fh4",
        "outputId": "31658523-3395-4c1c-d801-f1612c8d2ded"
      },
      "outputs": [
        {
          "data": {
            "text/html": [
              "<pre style=\"white-space:pre;overflow-x:auto;line-height:normal;font-family:Menlo,'DejaVu Sans Mono',consolas,'Courier New',monospace\">Manim Community <span style=\"color: #008000; text-decoration-color: #008000\">v0.17.2</span>\n",
              "\n",
              "</pre>\n"
            ],
            "text/plain": [
              "Manim Community \u001b[32mv0.\u001b[0m\u001b[32m17.2\u001b[0m\n",
              "\n"
            ]
          },
          "metadata": {},
          "output_type": "display_data"
        }
      ],
      "source": [
        "from manim import *\n",
        "config.media_width = \"75%\"\n",
        "config.verbosity = \"WARNING\""
      ]
    },
    {
      "attachments": {},
      "cell_type": "markdown",
      "metadata": {
        "id": "vkOmf-BjNBVA"
      },
      "source": [
        "## **Texto Simples (com retângulo)**"
      ]
    },
    {
      "cell_type": "code",
      "execution_count": null,
      "metadata": {
        "colab": {
          "base_uri": "https://localhost:8080/",
          "height": 559
        },
        "id": "jNfrNmNtpvA-",
        "outputId": "366696da-814e-456c-dab4-b5b71d8944a2"
      },
      "outputs": [],
      "source": [
        "%%manim -ql Texto\n",
        "\n",
        "class Texto(Scene):\n",
        "  def construct(self):\n",
        "    self.camera.background_color = RED\n",
        "    text = MathTex(r\"\\sum m_i \\vec{v_i}=Constante\",color=BLUE,font_size=120,tex_template=TexFontTemplates.helvetica_fourier_it)\n",
        "    box = SurroundingRectangle(text, color=GREEN,fill_color=BLACK,fill_opacity=0.7,buff=MED_LARGE_BUFF)\n",
        "    box.z_index=-1\n",
        "    self.play(DrawBorderThenFill(box))\n",
        "    self.play(Write(text))\n",
        "    self.wait(2)\n",
        "    self.play(Unwrite(text),Unwrite(box))\n",
        "\n",
        "class Texto2(Scene):\n",
        "  def construct(self):\n",
        "    self.camera.background_color = RED\n",
        "    text = MathTex(r\"T=2\\pi\\sqrt{\\frac{L}{g}}\",color=BLUE,font_size=120,tex_template=TexFontTemplates.helvetica_fourier_it)\n",
        "    box = SurroundingRectangle(text, color=GREEN,fill_color=BLACK,fill_opacity=0.7,buff=MED_LARGE_BUFF)\n",
        "    box.z_index=-1\n",
        "    self.play(DrawBorderThenFill(box))\n",
        "    self.play(Write(text))\n",
        "    self.wait(2)\n",
        "    self.play(Unwrite(text),Unwrite(box))\n"
      ]
    },
    {
      "attachments": {},
      "cell_type": "markdown",
      "metadata": {
        "id": "Nkb2jSuzNnLP"
      },
      "source": [
        "## Texto ***Duplo***"
      ]
    },
    {
      "cell_type": "code",
      "execution_count": null,
      "metadata": {
        "colab": {
          "base_uri": "https://localhost:8080/",
          "height": 501
        },
        "id": "WWUgXUGpN3Re",
        "outputId": "0a6d9c21-b51b-4202-f84d-4a80919d3e22"
      },
      "outputs": [],
      "source": [
        "%%manim -ql TextoDuplo2\n",
        "\n",
        "class TextoDuplo(Scene):\n",
        "  def construct(self):\n",
        "    self.camera.background_color = RED\n",
        "    text = MathTex(r\"[1.73 \\ mm]\",color=BLUE,font_size=120,tex_template=TexFontTemplates.helvetica_fourier_it)\n",
        "    box = SurroundingRectangle(text, color=GREEN,fill_color=BLACK,fill_opacity=0.7,buff=MED_LARGE_BUFF)\n",
        "    box.z_index=-1\n",
        "    self.play(DrawBorderThenFill(box))\n",
        "    self.play(Write(text))\n",
        "    self.wait(5)\n",
        "    text2 = MathTex(r\"[1.73 \\, mm,1.80 \\, mm]\",color=BLUE,font_size=120,tex_template=TexFontTemplates.helvetica_fourier_it)\n",
        "    self.play(Transform(text,text2),Transform(box,SurroundingRectangle(text2, color=GREEN,fill_color=BLACK,fill_opacity=0.7,buff=MED_LARGE_BUFF)))\n",
        "    self.wait(3)\n",
        "    self.play(Unwrite(text),Unwrite(box))\n",
        "\n",
        "class TextoDuplo2(Scene):\n",
        "  def construct(self):\n",
        "    self.camera.background_color = RED\n",
        "    text = MathTex(r\"(9.72 \\pm 0.08)m/s^2\",color=BLUE,font_size=120,tex_template=TexFontTemplates.helvetica_fourier_it)\n",
        "    text2 = MathTex(r\"[9.64,9.80]\",color=BLUE,font_size=120,tex_template=TexFontTemplates.helvetica_fourier_it)\n",
        "    box = SurroundingRectangle(text, color=GREEN,fill_color=BLACK,fill_opacity=0.7,buff=MED_LARGE_BUFF)\n",
        "    box.z_index=-1\n",
        "    self.play(DrawBorderThenFill(box))\n",
        "    self.play(Write(text))\n",
        "    self.wait(2)\n",
        "    box2 = SurroundingRectangle(text2, color=GREEN,fill_color=BLACK,fill_opacity=0.7,buff=MED_LARGE_BUFF)\n",
        "    self.play(Transform(text,text2),Transform(box,box2))\n",
        "    self.wait(2)\n",
        "    self.play(Unwrite(text),Unwrite(box))"
      ]
    },
    {
      "attachments": {},
      "cell_type": "markdown",
      "metadata": {
        "id": "iIUmaQz5Pk2g"
      },
      "source": [
        "## **Desenvolvendo Equaçãos (Step by step)**"
      ]
    },
    {
      "attachments": {},
      "cell_type": "markdown",
      "metadata": {
        "id": "JpnhJWueQFZW"
      },
      "source": []
    },
    {
      "cell_type": "code",
      "execution_count": null,
      "metadata": {
        "colab": {
          "base_uri": "https://localhost:8080/",
          "height": 501
        },
        "id": "SDaGA1vpQGML",
        "outputId": "8fffb63d-2e61-4994-9828-d601c8f4e8bb"
      },
      "outputs": [],
      "source": [
        "%%manim -ql Equacoes\n",
        "\n",
        "class Equacoes(Scene):\n",
        "  def construct(self):\n",
        "    self.camera.background_color = RED\n",
        "    text = MathTex(r\"EM_a=\\frac{mv^2}{2} +mgh + \\frac{k(\\Delta L)^2}{2}\",color=BLUE,font_size=120,tex_template=TexFontTemplates.helvetica_fourier_it)\n",
        "    text2 = MathTex(r\"EM_a -mgh - \\frac{k(\\Delta L)^2}{2}=\\frac{mv^2}{2}\",color=BLUE,font_size=120,tex_template=TexFontTemplates.helvetica_fourier_it)\n",
        "    text3 = MathTex(r\"\\frac{2EM_a}{m} -2gh - \\frac{k(\\Delta L)^2}{m}=v^2\",color=BLUE,font_size=120,tex_template=TexFontTemplates.helvetica_fourier_it)\n",
        "    text4 = MathTex(r\"\\sqrt{\\frac{2EM_a}{m} -2gh - \\frac{k(\\Delta L)^2}{m}}=v\",color=BLUE,font_size=120,tex_template=TexFontTemplates.helvetica_fourier_it)\n",
        "    self.play(Write(text))\n",
        "    self.wait(2)\n",
        "    self.play(TransformMatchingShapes(text,text2),run_time=2)\n",
        "    self.wait(2)\n",
        "    self.play(TransformMatchingShapes(text2,text3),run_time=2)\n",
        "    self.wait(2)\n",
        "    self.play(TransformMatchingShapes(text3,text4),run_time=2)\n",
        "    self.wait(2)"
      ]
    }
  ],
  "metadata": {
    "colab": {
      "authorship_tag": "ABX9TyP8CEqMaGkQCXKqJ4tUuEPM",
      "include_colab_link": true,
      "provenance": []
    },
    "kernelspec": {
      "display_name": "Python 3",
      "name": "python3"
    },
    "language_info": {
      "name": "python"
    }
  },
  "nbformat": 4,
  "nbformat_minor": 0
}
