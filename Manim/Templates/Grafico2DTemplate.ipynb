{
  "cells": [
    {
      "attachments": {},
      "cell_type": "markdown",
      "metadata": {
        "colab_type": "text",
        "id": "view-in-github"
      },
      "source": [
        "<a href=\"https://colab.research.google.com/github/viniciusdutra314/Manim-Singularidade/blob/main/Grafico2DTemplate.ipynb\" target=\"_parent\"><img src=\"https://colab.research.google.com/assets/colab-badge.svg\" alt=\"Open In Colab\"/></a>"
      ]
    },
    {
      "cell_type": "code",
      "execution_count": null,
      "metadata": {
        "id": "j0p7zljSSG9Y"
      },
      "outputs": [],
      "source": [
        "!sudo apt update\n",
        "!sudo apt install libcairo2-dev ffmpeg texlive texlive-latex-extra texlive-fonts-extra texlive-latex-recommended texlive-science tipa libpango1.0-dev\n",
        "!pip install manim\n",
        "!pip install IPython --upgrade"
      ]
    },
    {
      "attachments": {},
      "cell_type": "markdown",
      "metadata": {
        "id": "8XPnT4CUSIID"
      },
      "source": [
        "## Antes de executar esse bloco, reinicie o ambiente de execução (Ambiente de Execução / Reiniciar Ambiente de Execução)"
      ]
    },
    {
      "cell_type": "code",
      "execution_count": 1,
      "metadata": {
        "colab": {
          "base_uri": "https://localhost:8080/",
          "height": 50
        },
        "id": "alBnftZ2SJrd",
        "outputId": "04b37d81-392c-4fb2-8c14-7d034a6c8cc8"
      },
      "outputs": [
        {
          "data": {
            "text/html": [
              "<pre style=\"white-space:pre;overflow-x:auto;line-height:normal;font-family:Menlo,'DejaVu Sans Mono',consolas,'Courier New',monospace\">Manim Community <span style=\"color: #008000; text-decoration-color: #008000\">v0.17.2</span>\n",
              "\n",
              "</pre>\n"
            ],
            "text/plain": [
              "Manim Community \u001b[32mv0.\u001b[0m\u001b[32m17.2\u001b[0m\n",
              "\n"
            ]
          },
          "metadata": {},
          "output_type": "display_data"
        }
      ],
      "source": [
        "from manim import *\n",
        "config.media_width = \"75%\"\n",
        "config.verbosity = \"WARNING\""
      ]
    },
    {
      "attachments": {},
      "cell_type": "markdown",
      "metadata": {
        "id": "AT5qfzBweuNE"
      },
      "source": [
        "## **Gráfico de Função**"
      ]
    },
    {
      "cell_type": "code",
      "execution_count": null,
      "metadata": {
        "colab": {
          "base_uri": "https://localhost:8080/",
          "height": 501
        },
        "id": "f1i1d9QWexJc",
        "outputId": "29cc6675-9ff5-4b5c-c566-e87ade903873"
      },
      "outputs": [],
      "source": [
        "%%manim -ql GraficoFuncao\n",
        "font=TexFontTemplates.helvetica_fourier_it\n",
        "rangeofx=[0,10,1]\n",
        "rangeofy=[0,100,10]\n",
        "#\"scaling\": LogBase(custom_labels=True) use this lange in x or y_axis_config to change the scale\n",
        "\n",
        "class GraficoFuncao(Scene):\n",
        "  def construct(self):\n",
        "    axes = Axes(x_range=rangeofx,y_range=rangeofy,axis_config={\"color\": BLUE},x_axis_config={\n",
        "                \"numbers_to_include\": np.arange(*rangeofx), \n",
        "                \"numbers_with_elongated_ticks\": np.arange(*rangeofx)\n",
        "             }, y_axis_config={\"numbers_to_include\": np.arange(*rangeofy),\"numbers_with_elongated_ticks\": np.arange(*rangeofy)})\n",
        "    self.play(Write(axes),run_time=4)   \n",
        "    labels =axes.get_axis_labels(x_label=MathTex(\"x\",tex_template=font),y_label=MathTex('y',tex_template=font)).set_color(GREEN)\n",
        "    self.play(Write(labels))\n",
        "    grafico = axes.plot(lambda x: x**2, color=RED)\n",
        "    self.play(Write(grafico),run_time=5)\n",
        "    self.wait()"
      ]
    },
    {
      "attachments": {},
      "cell_type": "markdown",
      "metadata": {
        "id": "G9Q2xXMZdSqb"
      },
      "source": [
        "## **Gráfico Função definida por array (x,y)**"
      ]
    },
    {
      "cell_type": "code",
      "execution_count": null,
      "metadata": {
        "colab": {
          "base_uri": "https://localhost:8080/",
          "height": 501
        },
        "id": "E3xQo0d7dWfk",
        "outputId": "bd402be4-629d-4dec-82af-10903df1bfd6"
      },
      "outputs": [],
      "source": [
        "%%manim -ql Grafico\n",
        "x=np.array([1,2,3,4])\n",
        "y=np.array([2,4,6,7.5])\n",
        "font=TexFontTemplates.helvetica_fourier_it\n",
        "rangeofx=[min(x),max(x),1]\n",
        "rangeofy=[min(y),max(y),1]\n",
        "#\"scaling\": LogBase(custom_labels=True) use this lange in x or y_axis_config to change the scale\n",
        "\n",
        "class GraficoArray(Scene):\n",
        "  def construct(self):\n",
        "    axes = Axes(x_range=rangeofx,y_range=rangeofy,axis_config={\"color\": BLUE},x_axis_config={\n",
        "                \"numbers_to_include\": np.arange(*rangeofx), \n",
        "                \"numbers_with_elongated_ticks\": np.arange(*rangeofx)\n",
        "             }, y_axis_config={\"numbers_to_include\": np.arange(*rangeofy),\"numbers_with_elongated_ticks\": np.arange(*rangeofy)})\n",
        "    self.play(Write(axes),run_time=4)   \n",
        "    labels =axes.get_axis_labels(x_label=MathTex(\"x\",tex_template=font),y_label=MathTex('y',tex_template=font)).set_color(GREEN)\n",
        "    self.play(Write(labels))\n",
        "    graph=axes.plot_line_graph(x,y, vertex_dot_radius=0,line_color=RED)\n",
        "    self.play(FadeIn(graph),run_time=5)\n",
        "    self.wait()"
      ]
    },
    {
      "attachments": {},
      "cell_type": "markdown",
      "metadata": {
        "id": "9M2GHmgjSudt"
      },
      "source": [
        "## **Gráfico de Pontos**"
      ]
    },
    {
      "cell_type": "code",
      "execution_count": null,
      "metadata": {
        "colab": {
          "base_uri": "https://localhost:8080/",
          "height": 501
        },
        "id": "TP1WiaKGSNGu",
        "outputId": "11018e40-2d26-4aec-a440-d08b2b49387b"
      },
      "outputs": [],
      "source": [
        "%%manim -ql GraficoPontos\n",
        "x=np.array([1,2,3,4])\n",
        "y=np.array([2,4,6,7.5])\n",
        "font=TexFontTemplates.helvetica_fourier_it\n",
        "rangeofx=[min(x),max(x),1]\n",
        "rangeofy=[min(y),max(y),1]\n",
        "#\"scaling\": LogBase(custom_labels=True) use this lange in x or y_axis_config to change the scale\n",
        "\n",
        "class GraficoPontos(Scene):\n",
        "  def construct(self):\n",
        "    axes = Axes(x_range=rangeofx,y_range=rangeofy,axis_config={\"color\": BLUE},x_axis_config={\n",
        "                \"numbers_to_include\": np.arange(*rangeofx), \n",
        "                \"numbers_with_elongated_ticks\": np.arange(*rangeofx)\n",
        "             }, y_axis_config={\"numbers_to_include\": np.arange(*rangeofy),\"numbers_with_elongated_ticks\": np.arange(*rangeofy)})\n",
        "    self.play(Write(axes),run_time=4)   \n",
        "    labels =axes.get_axis_labels(x_label=MathTex(\"x\",tex_template=font),y_label=MathTex('y',tex_template=font)).set_color(GREEN)\n",
        "    self.play(Write(labels))\n",
        "    graph=axes.plot_line_graph(x,y, vertex_dot_radius=0.1,line_color=RED)\n",
        "    self.play(FadeIn(graph),run_time=5)\n",
        "    self.wait()"
      ]
    },
    {
      "attachments": {},
      "cell_type": "markdown",
      "metadata": {
        "id": "77ffmMq6d7wp"
      },
      "source": [
        "## **Grafico Scatter e interpolação**"
      ]
    },
    {
      "cell_type": "code",
      "execution_count": null,
      "metadata": {
        "colab": {
          "base_uri": "https://localhost:8080/",
          "height": 501
        },
        "id": "3HfCBydDd7Yf",
        "outputId": "9a585fd3-1035-4bba-f634-3d9c2051d517"
      },
      "outputs": [],
      "source": [
        "%%manim -ql GraficoScatter\n",
        "x=np.array([1,2,3,4])\n",
        "y=np.array([2,4,6,7.5])\n",
        "font=TexFontTemplates.helvetica_fourier_it\n",
        "rangeofx=[min(x),max(x),1]\n",
        "rangeofy=[min(y),max(y),1]\n",
        "#\"scaling\": LogBase(custom_labels=True) use this lange in x or y_axis_config to change the scale\n",
        "\n",
        "class GraficoScatter(Scene):\n",
        "  def construct(self):\n",
        "    axes = Axes(x_range=rangeofx,y_range=rangeofy,axis_config={\"color\": BLUE},x_axis_config={\n",
        "                \"numbers_to_include\": np.arange(*rangeofx), \n",
        "                \"numbers_with_elongated_ticks\": np.arange(*rangeofx)\n",
        "             }, y_axis_config={\"numbers_to_include\": np.arange(*rangeofy),\"numbers_with_elongated_ticks\": np.arange(*rangeofy)})\n",
        "    self.play(Write(axes),run_time=4)   \n",
        "    labels =axes.get_axis_labels(x_label=MathTex(\"x\",tex_template=font),y_label=MathTex('y',tex_template=font)).set_color(GREEN)\n",
        "    self.play(Write(labels))\n",
        "    for j in range(len(x)):\n",
        "            self.play(Create(Dot(point=UP).move_to(axes.coords_to_point(x[j],y[j]))),run_time=0.2)\n",
        "    self.wait(2)\n",
        "    interpolacao = axes.plot(lambda x: 2*x, color=RED)\n",
        "    self.play(Write(interpolacao),run_time=5)\n",
        "    self.wait()"
      ]
    }
  ],
  "metadata": {
    "colab": {
      "authorship_tag": "ABX9TyOyOPmCyEshRzEp27aAFZt8",
      "include_colab_link": true,
      "provenance": []
    },
    "kernelspec": {
      "display_name": "Python 3",
      "name": "python3"
    },
    "language_info": {
      "name": "python"
    }
  },
  "nbformat": 4,
  "nbformat_minor": 0
}
